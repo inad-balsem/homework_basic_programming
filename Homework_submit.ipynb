{
 "cells": [
  {
   "cell_type": "markdown",
   "metadata": {},
   "source": [
    "# Chapter 3: Basic Python Programming\n",
    "## Solution for Homework \n",
    "### Exploratory Data Analysis\n",
    "\n",
    "\n",
    "<br> **Author** : iNad\n",
    "<br> **Date**   : 07 Oktober 2019\n",
    "<br> **[Dataset]**(https://www.kaggle.com/lava18/google-play-store-apps#googleplaystore.csv)\n",
    "\n",
    "***"
   ]
  },
  {
   "cell_type": "markdown",
   "metadata": {},
   "source": [
    "### 1. The answer for the question number 1\n",
    "13(column) and 10841 (row) \n",
    "\n",
    "* * *"
   ]
  },
  {
   "cell_type": "code",
   "execution_count": null,
   "metadata": {},
   "outputs": [],
   "source": [
    "import pandas as pd\n",
    "import numpy as np\n",
    "\n",
    "df = pd.read_csv('googleplaystore.csv')\n",
    "df.info()"
   ]
  },
  {
   "cell_type": "markdown",
   "metadata": {},
   "source": [
    "### 2. The answer for the question number 2\n",
    "34\n",
    "\n",
    "* * *"
   ]
  },
  {
   "cell_type": "code",
   "execution_count": null,
   "metadata": {},
   "outputs": [],
   "source": [
    "# There are several way to answer the question, we can choose one of the code\n",
    "len(set(df['Category']))\n",
    "len(df['Category'].unique()) \n",
    "len(df['Category'].value_counts())"
   ]
  },
  {
   "cell_type": "markdown",
   "metadata": {},
   "source": [
    "### 3. The answer for the question number 3\n",
    "120\n",
    "\n",
    "* * *"
   ]
  },
  {
   "cell_type": "code",
   "execution_count": null,
   "metadata": {},
   "outputs": [],
   "source": [
    "# Similar with number 2, to answer this question, we can choose one of the several code below\n",
    "len(set(df['Genres']))\n",
    "len(df['Genres'].unique())\n",
    "len(df['Genres'].value_counts())"
   ]
  },
  {
   "cell_type": "markdown",
   "metadata": {},
   "source": [
    "### 4. The answer for the question number 4\n",
    "c. google_play_apps.drop_duplicates(subset='App', inplace=False)\n",
    "\n",
    "* * *"
   ]
  },
  {
   "cell_type": "code",
   "execution_count": null,
   "metadata": {},
   "outputs": [],
   "source": [
    "#define the variable google_play_apps\n",
    "google_play_apps = df\n",
    "#this script to remove duplicates values in app column\n",
    "google_play_apps = google_play_apps.drop_duplicates(subset='App', inplace=False)\n"
   ]
  },
  {
   "cell_type": "markdown",
   "metadata": {},
   "source": [
    "### 5. The answer for the question number 5 \n",
    "\n",
    "* * *"
   ]
  },
  {
   "cell_type": "code",
   "execution_count": null,
   "metadata": {},
   "outputs": [],
   "source": [
    "google_play_apps[google_play_apps['Installs']=='Free']\n",
    "google_play_apps = google_play_apps[google_play_apps['Installs']!='Free']\n",
    "google_play_apps['Installs'].unique()"
   ]
  },
  {
   "cell_type": "code",
   "execution_count": null,
   "metadata": {},
   "outputs": [],
   "source": [
    "#remove the '+' character\n",
    "google_play_apps[\"Installs\"] = google_play_apps[\"Installs\"].apply(lambda x: x.replace('+','') if '+' in str(x) else x)\n",
    "#remove the ',' character\n",
    "google_play_apps[\"Installs\"] = google_play_apps[\"Installs\"].apply(lambda x: x.replace(',','') if ',' in str(x) else x)\n",
    "#remove the '.' character\n",
    "google_play_apps[\"Installs\"] = google_play_apps[\"Installs\"].apply(lambda x: x.replace('.','') if '.' in str(x) else x)"
   ]
  },
  {
   "cell_type": "markdown",
   "metadata": {},
   "source": [
    "### 6. The answer for the question number 6"
   ]
  },
  {
   "cell_type": "code",
   "execution_count": null,
   "metadata": {},
   "outputs": [],
   "source": [
    "google_play_apps['Installs'] = google_play_apps['Installs'].astype(int)"
   ]
  },
  {
   "cell_type": "code",
   "execution_count": null,
   "metadata": {},
   "outputs": [],
   "source": [
    "google_play_apps.dtypes"
   ]
  },
  {
   "cell_type": "markdown",
   "metadata": {},
   "source": [
    "### 7. The answer for the question number 7\n",
    "\n",
    "* * *"
   ]
  },
  {
   "cell_type": "code",
   "execution_count": null,
   "metadata": {},
   "outputs": [],
   "source": [
    "google_play_apps[['App','Category']].groupby(['Category']).head(100)\n",
    "\n",
    "#google_play_apps[google_play_apps.App=='File Commander - File Manager/Explorer']\n",
    "#google_play_apps[google_play_apps.App=='Pinterest']\n",
    "#google_play_apps[google_play_apps.App=='FIFA Soccer']\n",
    "#google_play_apps[google_play_apps.App=='WhatsApp Messenger']\n",
    "#google_play_apps[google_play_apps.App=='Subway Surfers']\n",
    "#google_play_apps[google_play_apps.App=='DU Battery Saver - Battery Charger & Battery Life']\n",
    "#google_play_apps[google_play_apps.App=='Dropbox']\n",
    "google_play_apps[google_play_apps.App=='Flipboard: News For Our Time']"
   ]
  },
  {
   "cell_type": "markdown",
   "metadata": {},
   "source": [
    "### 8. The answer for the question number 8\n",
    "\n",
    "* * *"
   ]
  },
  {
   "cell_type": "code",
   "execution_count": null,
   "metadata": {},
   "outputs": [],
   "source": [
    "google_play_apps[google_play_apps['Installs'] >= 100000000]\n",
    "\n",
    "google_play_apps[google_play_apps.App=='Skype - free IM & video calls']\n",
    "#google_play_apps[google_play_apps.App=='Facebook']\n",
    "#google_play_apps[google_play_apps.App=='WhatsApp Messenger']\n",
    "#google_play_apps[google_play_apps.App=='Google Duo - High Quality Video Calls']"
   ]
  },
  {
   "cell_type": "markdown",
   "metadata": {},
   "source": [
    "### 9. The answer for the question number 9\n",
    "\n",
    "* * *"
   ]
  },
  {
   "cell_type": "code",
   "execution_count": null,
   "metadata": {},
   "outputs": [],
   "source": [
    "google_play_apps[\"Reviews\"] = google_play_apps[\"Reviews\"].apply(lambda x: x.replace('+','') if '+' in str(x) else x)\n",
    "google_play_apps[\"Reviews\"] = google_play_apps[\"Reviews\"].apply(lambda x: x.replace(',','') if ',' in str(x) else x)\n",
    "google_play_apps[\"Reviews\"] = google_play_apps[\"Reviews\"].apply(lambda x: x.replace('.','') if '.' in str(x) else x)\n",
    "google_play_apps['Reviews'] = google_play_apps['Reviews'].astype(int)\n",
    "\n",
    "app_comunication = google_play_apps[google_play_apps['Category'] == 'COMMUNICATION']\n",
    "app_comunication.sort_values(by=['Reviews'], ascending=False).head(10)\n"
   ]
  },
  {
   "cell_type": "markdown",
   "metadata": {},
   "source": [
    "### 10. The answer for the question number 10\n",
    "\n",
    "* * *"
   ]
  },
  {
   "cell_type": "code",
   "execution_count": null,
   "metadata": {},
   "outputs": [],
   "source": [
    "game_category = google_play_apps[google_play_apps['Category'] == 'GAME']\n",
    "game_category[['App','Installs','Reviews']].sort_values(by=['Installs', 'Reviews'], ascending=False).head(3)"
   ]
  },
  {
   "cell_type": "markdown",
   "metadata": {},
   "source": [
    "### 11. The answer for the question number 11\n",
    "\n",
    "* * *"
   ]
  },
  {
   "cell_type": "code",
   "execution_count": null,
   "metadata": {},
   "outputs": [],
   "source": []
  }
 ],
 "metadata": {
  "kernelspec": {
   "display_name": "Python 3",
   "language": "python",
   "name": "python3"
  },
  "language_info": {
   "codemirror_mode": {
    "name": "ipython",
    "version": 3
   },
   "file_extension": ".py",
   "mimetype": "text/x-python",
   "name": "python",
   "nbconvert_exporter": "python",
   "pygments_lexer": "ipython3",
   "version": "3.7.4"
  }
 },
 "nbformat": 4,
 "nbformat_minor": 4
}
