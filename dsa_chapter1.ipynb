{
 "cells": [
  {
   "cell_type": "markdown",
   "metadata": {},
   "source": [
    "# Basic Python Programming\n",
    "Description: This script is going to show you hot wot learn python form the beginning.\n",
    "<br> Author : inad\n",
    "<br> Date   : 30 Sept 2019\n",
    "<br> Source : [mbah Google](https://www.google.com)"
   ]
  },
  {
   "cell_type": "markdown",
   "metadata": {},
   "source": [
    "* * *"
   ]
  },
  {
   "cell_type": "markdown",
   "metadata": {},
   "source": [
    "* Session 1 : Introduction\n",
    "    * Arithmatics\n",
    "    * Method\n",
    "    * Variables\n",
    "    * Function\n",
    "    * Loop\n",
    "* Session 2 : Pandas and Numpy\n",
    "    * Pandas\n",
    "    * Numpy\n",
    "* Session 3 : Data cleansing\n",
    "    * Drop Duplicates \n",
    "    * Adding Missing Data"
   ]
  },
  {
   "cell_type": "code",
   "execution_count": 9,
   "metadata": {},
   "outputs": [
    {
     "name": "stdout",
     "output_type": "stream",
     "text": [
      "Hello\n",
      "7\n",
      "13\n"
     ]
    }
   ],
   "source": [
    "print(\"Hello\")\n",
    "print(2+5)\n",
    "print(6+7)"
   ]
  },
  {
   "cell_type": "code",
   "execution_count": 13,
   "metadata": {},
   "outputs": [
    {
     "name": "stdout",
     "output_type": "stream",
     "text": [
      "<class 'str'>\n"
     ]
    }
   ],
   "source": [
    "name = \"hello world\"\n",
    "#print(name)\n",
    "print(type(name))"
   ]
  },
  {
   "cell_type": "code",
   "execution_count": 23,
   "metadata": {},
   "outputs": [
    {
     "name": "stdout",
     "output_type": "stream",
     "text": [
      "cat\n",
      "dog\n",
      "monkey\n"
     ]
    }
   ],
   "source": [
    "animals  = ['cat','dog','monkey']\n",
    "for animal in animals:\n",
    "    print(animal)\n",
    "#    nums = [0,1,2,3,4]\n",
    "#    nums = [0,1,3]\n",
    "    #squares = [x**2 for x in nums]\n",
    "    #print(squares)\n",
    "#    print(animal)"
   ]
  },
  {
   "cell_type": "code",
   "execution_count": 26,
   "metadata": {},
   "outputs": [
    {
     "name": "stdout",
     "output_type": "stream",
     "text": [
      "<class 'list'>\n",
      "[160.  150.  140.5]\n",
      "<class 'numpy.ndarray'>\n"
     ]
    }
   ],
   "source": [
    "import numpy as np\n",
    "Data = [[\"Bob\",160],[\"Charlie\",150],[\"Brian\",140.5]]\n",
    "height_list = [row[1] for row in Data]\n",
    "\n",
    "print(type(height_list))\n",
    "height_array = np.array(height_list)\n",
    "\n",
    "print(height_array)\n",
    "print(type(height_array))\n"
   ]
  },
  {
   "cell_type": "code",
   "execution_count": 30,
   "metadata": {},
   "outputs": [],
   "source": [
    "import numpy as np\n",
    "import pandas as pd\n",
    "\n",
    "imdb = pd.read_csv('IMDB-database-update.csv', encoding='latin1')"
   ]
  },
  {
   "cell_type": "code",
   "execution_count": 31,
   "metadata": {},
   "outputs": [
    {
     "data": {
      "text/plain": [
       "(3781, 36)"
      ]
     },
     "execution_count": 31,
     "metadata": {},
     "output_type": "execute_result"
    }
   ],
   "source": [
    "imdb.shape"
   ]
  },
  {
   "cell_type": "code",
   "execution_count": 32,
   "metadata": {},
   "outputs": [
    {
     "data": {
      "text/plain": [
       "movie_ID                       int64\n",
       "movie_title                   object\n",
       "duration                       int64\n",
       "color                          int64\n",
       "title_year                     int64\n",
       "country                       object\n",
       "language                      object\n",
       "content_rating                object\n",
       "budget_USD                     int64\n",
       "gross_USD                      int64\n",
       "net_USD                        int64\n",
       "profitable                     int64\n",
       "director_name                 object\n",
       "director_top20?               object\n",
       "director_facebook?             int64\n",
       "director_facebook_likes        int64\n",
       "actor_1_name                  object\n",
       "actor_top20?                   int64\n",
       "actor_1_facebook?              int64\n",
       "actor_1_facebook_likes         int64\n",
       "actor_2_name                  object\n",
       "actor_top20?.1                 int64\n",
       "actor_2_facebook?              int64\n",
       "actor_2_facebook_likes         int64\n",
       "actor_3_name                  object\n",
       "actor_top20?.2                 int64\n",
       "actor_3_facebook?              int64\n",
       "actor_3_facebook_likes         int64\n",
       "cast_total_facebook_likes      int64\n",
       "movie_facebook?                int64\n",
       "movie_facebook_likes;          int64\n",
       "facenumber_in_poster           int64\n",
       "num_voted_users                int64\n",
       "num_user_for_reviews           int64\n",
       "imdb_score                   float64\n",
       "imdb_top_250                   int64\n",
       "dtype: object"
      ]
     },
     "execution_count": 32,
     "metadata": {},
     "output_type": "execute_result"
    }
   ],
   "source": [
    "imdb.dtypes"
   ]
  },
  {
   "cell_type": "code",
   "execution_count": 34,
   "metadata": {},
   "outputs": [
    {
     "name": "stdout",
     "output_type": "stream",
     "text": [
      "<class 'pandas.core.frame.DataFrame'>\n",
      "RangeIndex: 3781 entries, 0 to 3780\n",
      "Data columns (total 36 columns):\n",
      "movie_ID                     3781 non-null int64\n",
      "movie_title                  3781 non-null object\n",
      "duration                     3781 non-null int64\n",
      "color                        3781 non-null int64\n",
      "title_year                   3781 non-null int64\n",
      "country                      3781 non-null object\n",
      "language                     3781 non-null object\n",
      "content_rating               3781 non-null object\n",
      "budget_USD                   3781 non-null int64\n",
      "gross_USD                    3781 non-null int64\n",
      "net_USD                      3781 non-null int64\n",
      "profitable                   3781 non-null int64\n",
      "director_name                3781 non-null object\n",
      "director_top20?              3781 non-null object\n",
      "director_facebook?           3781 non-null int64\n",
      "director_facebook_likes      3781 non-null int64\n",
      "actor_1_name                 3781 non-null object\n",
      "actor_top20?                 3781 non-null int64\n",
      "actor_1_facebook?            3781 non-null int64\n",
      "actor_1_facebook_likes       3781 non-null int64\n",
      "actor_2_name                 3781 non-null object\n",
      "actor_top20?.1               3781 non-null int64\n",
      "actor_2_facebook?            3781 non-null int64\n",
      "actor_2_facebook_likes       3781 non-null int64\n",
      "actor_3_name                 3781 non-null object\n",
      "actor_top20?.2               3781 non-null int64\n",
      "actor_3_facebook?            3781 non-null int64\n",
      "actor_3_facebook_likes       3781 non-null int64\n",
      "cast_total_facebook_likes    3781 non-null int64\n",
      "movie_facebook?              3781 non-null int64\n",
      "movie_facebook_likes;        3781 non-null int64\n",
      "facenumber_in_poster         3781 non-null int64\n",
      "num_voted_users              3781 non-null int64\n",
      "num_user_for_reviews         3781 non-null int64\n",
      "imdb_score                   3781 non-null float64\n",
      "imdb_top_250                 3781 non-null int64\n",
      "dtypes: float64(1), int64(26), object(9)\n",
      "memory usage: 1.0+ MB\n"
     ]
    }
   ],
   "source": [
    "imdb.info()"
   ]
  },
  {
   "cell_type": "code",
   "execution_count": 35,
   "metadata": {},
   "outputs": [
    {
     "data": {
      "text/html": [
       "<div>\n",
       "<style scoped>\n",
       "    .dataframe tbody tr th:only-of-type {\n",
       "        vertical-align: middle;\n",
       "    }\n",
       "\n",
       "    .dataframe tbody tr th {\n",
       "        vertical-align: top;\n",
       "    }\n",
       "\n",
       "    .dataframe thead th {\n",
       "        text-align: right;\n",
       "    }\n",
       "</style>\n",
       "<table border=\"1\" class=\"dataframe\">\n",
       "  <thead>\n",
       "    <tr style=\"text-align: right;\">\n",
       "      <th></th>\n",
       "      <th>movie_ID</th>\n",
       "      <th>movie_title</th>\n",
       "      <th>duration</th>\n",
       "      <th>color</th>\n",
       "      <th>title_year</th>\n",
       "      <th>country</th>\n",
       "      <th>language</th>\n",
       "      <th>content_rating</th>\n",
       "      <th>budget_USD</th>\n",
       "      <th>gross_USD</th>\n",
       "      <th>...</th>\n",
       "      <th>actor_3_facebook?</th>\n",
       "      <th>actor_3_facebook_likes</th>\n",
       "      <th>cast_total_facebook_likes</th>\n",
       "      <th>movie_facebook?</th>\n",
       "      <th>movie_facebook_likes;</th>\n",
       "      <th>facenumber_in_poster</th>\n",
       "      <th>num_voted_users</th>\n",
       "      <th>num_user_for_reviews</th>\n",
       "      <th>imdb_score</th>\n",
       "      <th>imdb_top_250</th>\n",
       "    </tr>\n",
       "  </thead>\n",
       "  <tbody>\n",
       "    <tr>\n",
       "      <td>0</td>\n",
       "      <td>1</td>\n",
       "      <td>Avatar</td>\n",
       "      <td>178</td>\n",
       "      <td>1</td>\n",
       "      <td>2009</td>\n",
       "      <td>USA</td>\n",
       "      <td>English</td>\n",
       "      <td>PG-13</td>\n",
       "      <td>237000000</td>\n",
       "      <td>760505847</td>\n",
       "      <td>...</td>\n",
       "      <td>1</td>\n",
       "      <td>855</td>\n",
       "      <td>4834</td>\n",
       "      <td>1</td>\n",
       "      <td>33000</td>\n",
       "      <td>0</td>\n",
       "      <td>886204</td>\n",
       "      <td>3054</td>\n",
       "      <td>7.9</td>\n",
       "      <td>0</td>\n",
       "    </tr>\n",
       "    <tr>\n",
       "      <td>1</td>\n",
       "      <td>2</td>\n",
       "      <td>Pirates of the Caribbean: At World's End</td>\n",
       "      <td>169</td>\n",
       "      <td>1</td>\n",
       "      <td>2007</td>\n",
       "      <td>USA</td>\n",
       "      <td>English</td>\n",
       "      <td>PG-13</td>\n",
       "      <td>300000000</td>\n",
       "      <td>309404152</td>\n",
       "      <td>...</td>\n",
       "      <td>1</td>\n",
       "      <td>1000</td>\n",
       "      <td>48350</td>\n",
       "      <td>0</td>\n",
       "      <td>0</td>\n",
       "      <td>0</td>\n",
       "      <td>471220</td>\n",
       "      <td>1238</td>\n",
       "      <td>7.1</td>\n",
       "      <td>0</td>\n",
       "    </tr>\n",
       "    <tr>\n",
       "      <td>2</td>\n",
       "      <td>3</td>\n",
       "      <td>The Dark Knight Rises</td>\n",
       "      <td>164</td>\n",
       "      <td>1</td>\n",
       "      <td>2012</td>\n",
       "      <td>USA</td>\n",
       "      <td>English</td>\n",
       "      <td>PG-13</td>\n",
       "      <td>250000000</td>\n",
       "      <td>448130642</td>\n",
       "      <td>...</td>\n",
       "      <td>1</td>\n",
       "      <td>23000</td>\n",
       "      <td>106759</td>\n",
       "      <td>1</td>\n",
       "      <td>164000</td>\n",
       "      <td>0</td>\n",
       "      <td>1144337</td>\n",
       "      <td>2701</td>\n",
       "      <td>8.5</td>\n",
       "      <td>1</td>\n",
       "    </tr>\n",
       "    <tr>\n",
       "      <td>3</td>\n",
       "      <td>4</td>\n",
       "      <td>Spider-Man 3</td>\n",
       "      <td>156</td>\n",
       "      <td>1</td>\n",
       "      <td>2007</td>\n",
       "      <td>USA</td>\n",
       "      <td>English</td>\n",
       "      <td>PG-13</td>\n",
       "      <td>258000000</td>\n",
       "      <td>336530303</td>\n",
       "      <td>...</td>\n",
       "      <td>1</td>\n",
       "      <td>4000</td>\n",
       "      <td>46055</td>\n",
       "      <td>0</td>\n",
       "      <td>0</td>\n",
       "      <td>0</td>\n",
       "      <td>383056</td>\n",
       "      <td>1902</td>\n",
       "      <td>6.2</td>\n",
       "      <td>0</td>\n",
       "    </tr>\n",
       "    <tr>\n",
       "      <td>4</td>\n",
       "      <td>5</td>\n",
       "      <td>Batman v Superman: Dawn of Justice</td>\n",
       "      <td>183</td>\n",
       "      <td>1</td>\n",
       "      <td>2016</td>\n",
       "      <td>USA</td>\n",
       "      <td>English</td>\n",
       "      <td>PG-13</td>\n",
       "      <td>250000000</td>\n",
       "      <td>330249062</td>\n",
       "      <td>...</td>\n",
       "      <td>1</td>\n",
       "      <td>2000</td>\n",
       "      <td>24450</td>\n",
       "      <td>1</td>\n",
       "      <td>197000</td>\n",
       "      <td>0</td>\n",
       "      <td>371639</td>\n",
       "      <td>3018</td>\n",
       "      <td>6.9</td>\n",
       "      <td>0</td>\n",
       "    </tr>\n",
       "  </tbody>\n",
       "</table>\n",
       "<p>5 rows × 36 columns</p>\n",
       "</div>"
      ],
      "text/plain": [
       "   movie_ID                               movie_title  duration  color  \\\n",
       "0         1                                    Avatar       178      1   \n",
       "1         2  Pirates of the Caribbean: At World's End       169      1   \n",
       "2         3                     The Dark Knight Rises       164      1   \n",
       "3         4                              Spider-Man 3       156      1   \n",
       "4         5        Batman v Superman: Dawn of Justice       183      1   \n",
       "\n",
       "   title_year country language content_rating  budget_USD  gross_USD  ...  \\\n",
       "0        2009     USA  English          PG-13   237000000  760505847  ...   \n",
       "1        2007     USA  English          PG-13   300000000  309404152  ...   \n",
       "2        2012     USA  English          PG-13   250000000  448130642  ...   \n",
       "3        2007     USA  English          PG-13   258000000  336530303  ...   \n",
       "4        2016     USA  English          PG-13   250000000  330249062  ...   \n",
       "\n",
       "   actor_3_facebook?  actor_3_facebook_likes cast_total_facebook_likes  \\\n",
       "0                  1                     855                      4834   \n",
       "1                  1                    1000                     48350   \n",
       "2                  1                   23000                    106759   \n",
       "3                  1                    4000                     46055   \n",
       "4                  1                    2000                     24450   \n",
       "\n",
       "  movie_facebook?  movie_facebook_likes;  facenumber_in_poster  \\\n",
       "0               1                  33000                     0   \n",
       "1               0                      0                     0   \n",
       "2               1                 164000                     0   \n",
       "3               0                      0                     0   \n",
       "4               1                 197000                     0   \n",
       "\n",
       "  num_voted_users  num_user_for_reviews  imdb_score  imdb_top_250  \n",
       "0          886204                  3054         7.9             0  \n",
       "1          471220                  1238         7.1             0  \n",
       "2         1144337                  2701         8.5             1  \n",
       "3          383056                  1902         6.2             0  \n",
       "4          371639                  3018         6.9             0  \n",
       "\n",
       "[5 rows x 36 columns]"
      ]
     },
     "execution_count": 35,
     "metadata": {},
     "output_type": "execute_result"
    }
   ],
   "source": [
    "imdb.head(5)"
   ]
  },
  {
   "cell_type": "code",
   "execution_count": 36,
   "metadata": {},
   "outputs": [
    {
     "data": {
      "text/plain": [
       "movie_ID                     0\n",
       "movie_title                  0\n",
       "duration                     0\n",
       "color                        0\n",
       "title_year                   0\n",
       "country                      0\n",
       "language                     0\n",
       "content_rating               0\n",
       "budget_USD                   0\n",
       "gross_USD                    0\n",
       "net_USD                      0\n",
       "profitable                   0\n",
       "director_name                0\n",
       "director_top20?              0\n",
       "director_facebook?           0\n",
       "director_facebook_likes      0\n",
       "actor_1_name                 0\n",
       "actor_top20?                 0\n",
       "actor_1_facebook?            0\n",
       "actor_1_facebook_likes       0\n",
       "actor_2_name                 0\n",
       "actor_top20?.1               0\n",
       "actor_2_facebook?            0\n",
       "actor_2_facebook_likes       0\n",
       "actor_3_name                 0\n",
       "actor_top20?.2               0\n",
       "actor_3_facebook?            0\n",
       "actor_3_facebook_likes       0\n",
       "cast_total_facebook_likes    0\n",
       "movie_facebook?              0\n",
       "movie_facebook_likes;        0\n",
       "facenumber_in_poster         0\n",
       "num_voted_users              0\n",
       "num_user_for_reviews         0\n",
       "imdb_score                   0\n",
       "imdb_top_250                 0\n",
       "dtype: int64"
      ]
     },
     "execution_count": 36,
     "metadata": {},
     "output_type": "execute_result"
    }
   ],
   "source": [
    "#melihat jumlah dalam kolom yang null\n",
    "imdb.isnull().sum()"
   ]
  },
  {
   "cell_type": "code",
   "execution_count": 39,
   "metadata": {},
   "outputs": [],
   "source": [
    "imdb[[\"movie_facebook?\"]] = imdb[[\"movie_facebook?\"]].astype('str')"
   ]
  },
  {
   "cell_type": "code",
   "execution_count": 40,
   "metadata": {},
   "outputs": [
    {
     "data": {
      "text/html": [
       "<div>\n",
       "<style scoped>\n",
       "    .dataframe tbody tr th:only-of-type {\n",
       "        vertical-align: middle;\n",
       "    }\n",
       "\n",
       "    .dataframe tbody tr th {\n",
       "        vertical-align: top;\n",
       "    }\n",
       "\n",
       "    .dataframe thead th {\n",
       "        text-align: right;\n",
       "    }\n",
       "</style>\n",
       "<table border=\"1\" class=\"dataframe\">\n",
       "  <thead>\n",
       "    <tr style=\"text-align: right;\">\n",
       "      <th></th>\n",
       "      <th>duration</th>\n",
       "      <th>gross_USD</th>\n",
       "    </tr>\n",
       "  </thead>\n",
       "  <tbody>\n",
       "    <tr>\n",
       "      <td>count</td>\n",
       "      <td>3781.000000</td>\n",
       "      <td>3.781000e+03</td>\n",
       "    </tr>\n",
       "    <tr>\n",
       "      <td>mean</td>\n",
       "      <td>109.950278</td>\n",
       "      <td>5.182002e+07</td>\n",
       "    </tr>\n",
       "    <tr>\n",
       "      <td>std</td>\n",
       "      <td>22.299267</td>\n",
       "      <td>7.003776e+07</td>\n",
       "    </tr>\n",
       "    <tr>\n",
       "      <td>min</td>\n",
       "      <td>37.000000</td>\n",
       "      <td>1.620000e+02</td>\n",
       "    </tr>\n",
       "    <tr>\n",
       "      <td>25%</td>\n",
       "      <td>95.000000</td>\n",
       "      <td>7.605668e+06</td>\n",
       "    </tr>\n",
       "    <tr>\n",
       "      <td>50%</td>\n",
       "      <td>106.000000</td>\n",
       "      <td>2.896520e+07</td>\n",
       "    </tr>\n",
       "    <tr>\n",
       "      <td>75%</td>\n",
       "      <td>120.000000</td>\n",
       "      <td>6.600997e+07</td>\n",
       "    </tr>\n",
       "    <tr>\n",
       "      <td>max</td>\n",
       "      <td>325.000000</td>\n",
       "      <td>7.605058e+08</td>\n",
       "    </tr>\n",
       "  </tbody>\n",
       "</table>\n",
       "</div>"
      ],
      "text/plain": [
       "          duration     gross_USD\n",
       "count  3781.000000  3.781000e+03\n",
       "mean    109.950278  5.182002e+07\n",
       "std      22.299267  7.003776e+07\n",
       "min      37.000000  1.620000e+02\n",
       "25%      95.000000  7.605668e+06\n",
       "50%     106.000000  2.896520e+07\n",
       "75%     120.000000  6.600997e+07\n",
       "max     325.000000  7.605058e+08"
      ]
     },
     "execution_count": 40,
     "metadata": {},
     "output_type": "execute_result"
    }
   ],
   "source": [
    "imdb[[\"duration\",\"gross_USD\"]].describe()"
   ]
  },
  {
   "cell_type": "code",
   "execution_count": 43,
   "metadata": {},
   "outputs": [
    {
     "data": {
      "text/plain": [
       "English       3628\n",
       "French          33\n",
       "Spanish         23\n",
       "Mandarin        14\n",
       "German          10\n",
       "Japanese        10\n",
       "Cantonese        7\n",
       "Hindi            5\n",
       "Portuguese       5\n",
       "Italian          5\n",
       "Norwegian        4\n",
       "Korean           4\n",
       "Thai             3\n",
       "Danish           3\n",
       "Dutch            3\n",
       "Persian          3\n",
       "Indonesian       2\n",
       "Aboriginal       2\n",
       "Hebrew           2\n",
       "Dari             2\n",
       "Czech            1\n",
       "Mongolian        1\n",
       "Zulu             1\n",
       "Bosnian          1\n",
       "Russian          1\n",
       "Vietnamese       1\n",
       "Kazakh           1\n",
       "Maya             1\n",
       "Aramaic          1\n",
       "None             1\n",
       "Arabic           1\n",
       "Hungarian        1\n",
       "Filipino         1\n",
       "Name: language, dtype: int64"
      ]
     },
     "execution_count": 43,
     "metadata": {},
     "output_type": "execute_result"
    }
   ],
   "source": [
    "imdb[\"language\"].value_counts()"
   ]
  },
  {
   "cell_type": "code",
   "execution_count": 42,
   "metadata": {},
   "outputs": [
    {
     "data": {
      "text/plain": [
       "R            1715\n",
       "PG-13        1311\n",
       "PG            568\n",
       "G              88\n",
       "Not Rated      39\n",
       "Unrated        24\n",
       "Approved       14\n",
       "X              10\n",
       "NC-17           6\n",
       "Passed          3\n",
       "M               2\n",
       "GP              1\n",
       "Name: content_rating, dtype: int64"
      ]
     },
     "execution_count": 42,
     "metadata": {},
     "output_type": "execute_result"
    }
   ],
   "source": [
    "imdb[\"content_rating\"].value_counts()"
   ]
  },
  {
   "cell_type": "code",
   "execution_count": 44,
   "metadata": {},
   "outputs": [],
   "source": [
    "imdb['score_group']=np.where(imdb['imdb_score']>7.5,'high','low')"
   ]
  },
  {
   "cell_type": "code",
   "execution_count": 46,
   "metadata": {},
   "outputs": [
    {
     "data": {
      "text/plain": [
       "low     3247\n",
       "high     534\n",
       "Name: score_group, dtype: int64"
      ]
     },
     "execution_count": 46,
     "metadata": {},
     "output_type": "execute_result"
    }
   ],
   "source": [
    "imdb['score_group'].value_counts()"
   ]
  },
  {
   "cell_type": "code",
   "execution_count": 50,
   "metadata": {},
   "outputs": [
    {
     "ename": "TypeError",
     "evalue": "'>' not supported between instances of 'list' and 'float'",
     "output_type": "error",
     "traceback": [
      "\u001b[1;31m---------------------------------------------------------------------------\u001b[0m",
      "\u001b[1;31mTypeError\u001b[0m                                 Traceback (most recent call last)",
      "\u001b[1;32m<ipython-input-50-aa2ba363bcd4>\u001b[0m in \u001b[0;36m<module>\u001b[1;34m\u001b[0m\n\u001b[1;32m----> 1\u001b[1;33m \u001b[1;33m[\u001b[0m\u001b[1;34m'imdb_score'\u001b[0m\u001b[1;33m]\u001b[0m\u001b[1;33m>\u001b[0m\u001b[1;36m7.5\u001b[0m\u001b[1;33m\u001b[0m\u001b[1;33m\u001b[0m\u001b[0m\n\u001b[0m",
      "\u001b[1;31mTypeError\u001b[0m: '>' not supported between instances of 'list' and 'float'"
     ]
    }
   ],
   "source": [
    "a=['imdb_score']>7.5"
   ]
  },
  {
   "cell_type": "code",
   "execution_count": null,
   "metadata": {},
   "outputs": [],
   "source": []
  }
 ],
 "metadata": {
  "kernelspec": {
   "display_name": "Python 3",
   "language": "python",
   "name": "python3"
  },
  "language_info": {
   "codemirror_mode": {
    "name": "ipython",
    "version": 3
   },
   "file_extension": ".py",
   "mimetype": "text/x-python",
   "name": "python",
   "nbconvert_exporter": "python",
   "pygments_lexer": "ipython3",
   "version": "3.7.4"
  }
 },
 "nbformat": 4,
 "nbformat_minor": 2
}
